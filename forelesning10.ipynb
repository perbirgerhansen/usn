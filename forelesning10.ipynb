{
 "cells": [
  {
   "cell_type": "markdown",
   "id": "40a71bfc-0d18-48af-96c9-c74be522cd41",
   "metadata": {},
   "source": [
    "PY1010. 2024-2025. F. Haugen (finn.haugen@usn.no). USN.\n",
    "<hr>"
   ]
  },
  {
   "cell_type": "markdown",
   "id": "d30bdd03-965b-47c7-8984-d7d66615535c",
   "metadata": {
    "jp-MarkdownHeadingCollapsed": true
   },
   "source": [
    "<h1 style=\"color:darkblue;\">OBJEKT-ORIENTERT PROGRAMMERING (OOP)</h1>"
   ]
  },
  {
   "cell_type": "markdown",
   "id": "4555c52e-2540-416e-82cc-c4a31de47d4f",
   "metadata": {},
   "source": [
    "<h1 style=\"color:darkred;\">Hva er objekter i Python?</h1>"
   ]
  },
  {
   "attachments": {},
   "cell_type": "markdown",
   "id": "07f09b81-ded0-4e98-bef6-1acd138eba15",
   "metadata": {},
   "source": [
    "Alle \"ting\" i Python er objekter."
   ]
  },
  {
   "attachments": {},
   "cell_type": "markdown",
   "id": "de6b3bc1-1173-487e-98af-83a1b8f209d4",
   "metadata": {},
   "source": [
    "Objekter har\n",
    "- **attributter** (data) med en eller annen verdi\n",
    "- **metoder** (funksjoner) som kan utføre et eller annet på objektet\n",
    "\n",
    "Vi kan få tilgang til attributtene og metodene vha. *punktum*, som vist i følgende eksempel."
   ]
  },
  {
   "attachments": {},
   "cell_type": "markdown",
   "id": "a47e6bcf-f4c0-46f8-ac3f-718b24288331",
   "metadata": {},
   "source": [
    "Eksempel på et innebygget objekt i Python - en numpy-array:"
   ]
  },
  {
   "cell_type": "code",
   "execution_count": 17,
   "id": "c666fa89-48fa-4e0d-80cc-d38a67155937",
   "metadata": {},
   "outputs": [],
   "source": [
    "# Vi oppretter en array:\n",
    "\n",
    "import numpy as np\n",
    "\n",
    "arr1 = np.array([0, 1, 2, 3, 4, 5])"
   ]
  },
  {
   "cell_type": "markdown",
   "id": "e9cc0e7f-b04a-42b9-a7eb-dc1280c2911b",
   "metadata": {},
   "source": [
    "Array-objektet har en **attributt** som heter size:"
   ]
  },
  {
   "cell_type": "code",
   "execution_count": 18,
   "id": "8a8eaa9f-c473-4909-a8bf-eb4e925d0b2c",
   "metadata": {},
   "outputs": [
    {
     "name": "stdout",
     "output_type": "stream",
     "text": [
      "6\n"
     ]
    }
   ],
   "source": [
    "print(arr1.size)"
   ]
  },
  {
   "cell_type": "markdown",
   "id": "11c649b9-8909-492f-bb30-9ac2eb9acb43",
   "metadata": {},
   "source": [
    "Array-objektet har en **metode** som heter reshape:"
   ]
  },
  {
   "cell_type": "code",
   "execution_count": 19,
   "id": "8a8a6c20-3512-4bfe-b60d-2fb29f76d47b",
   "metadata": {},
   "outputs": [
    {
     "name": "stdout",
     "output_type": "stream",
     "text": [
      "[[0 1 2]\n",
      " [3 4 5]]\n"
     ]
    }
   ],
   "source": [
    "arr1_reshaped = arr1.reshape([2, 3])\n",
    "print(arr1_reshaped)"
   ]
  },
  {
   "cell_type": "markdown",
   "id": "21ce2833-e043-4e0f-a9a4-5923d660b511",
   "metadata": {},
   "source": [
    "<h1 style=\"color:darkred;\">Hvorfor bruke OOP?</h1>"
   ]
  },
  {
   "cell_type": "markdown",
   "id": "1395ecaf-6fc0-4063-a2e6-e1f4ffdd6eff",
   "metadata": {},
   "source": [
    "- **Modularisering** (lage programdeler som kan gjenbrukes)\n",
    "- **Strukturering** (dele opp programmet i veldefinerte deler)\n",
    "- **Oppskalering** (lage nye klasser (\"barn\") basert på eksisterende klasser (\"foreldre\"), med utvidet funksjonalitet)"
   ]
  },
  {
   "cell_type": "markdown",
   "id": "ffd44789-2302-4b8e-b1ff-5dabeee75ab6",
   "metadata": {},
   "source": [
    "<h1 style=\"color:darkred;\">Eksempel på program basert på OOP</h1>"
   ]
  },
  {
   "cell_type": "markdown",
   "id": "cee3abc7-9ef5-4645-84f3-5f9348f23d79",
   "metadata": {},
   "source": [
    "Programmet holder orden på et billager. "
   ]
  },
  {
   "cell_type": "markdown",
   "id": "c4e1e143-6f4a-48ea-a94b-8f2e4e02ae4c",
   "metadata": {},
   "source": [
    "OOP-begreper som vi skal bli kjent med gjennom eksempelet:\n",
    "\n",
    "*Konstruksjon (implementering):*\n",
    "- Klasse\n",
    "- Konstruktor\n",
    "- Instansvariabler eller attributter\n",
    "- Lokale variabler\n",
    "- Metoder med og uten returverdi\n",
    "- str-metoden for utskrift av objektet\n",
    "\n",
    "*Opprettelse av instanser (objekter) av klassen*\n",
    "\n",
    "*Bruk av objektene i programkoden*"
   ]
  },
  {
   "cell_type": "code",
   "execution_count": 20,
   "id": "bd8b7a45-68ad-412f-a5bb-00bc35a8d921",
   "metadata": {},
   "outputs": [
    {
     "name": "stdout",
     "output_type": "stream",
     "text": [
      "Status for Volvo: 12\n",
      "Antall Volvo på lager: 12\n",
      "Lagerbeholdning av Volvo: 12\n"
     ]
    }
   ],
   "source": [
    "# %% Definering (\"implementering\") av klassen Billager:\n",
    "\n",
    "class Billager:\n",
    "    \n",
    "    def __init__(self, bilmerke, beholdning):\n",
    "        self.bilmerke = bilmerke\n",
    "        self.beholdning = beholdning\n",
    "        \n",
    "    def endring(self, antall):\n",
    "        self.beholdning += antall\n",
    "        \n",
    "    def status(self):\n",
    "        return self.beholdning\n",
    "        \n",
    "    def __str__(self):\n",
    "        info = \"Lagerbeholdning av \"\n",
    "        info += self.bilmerke\n",
    "        info += \": \"\n",
    "        info += str(self.beholdning)\n",
    "        return info\n",
    "        \n",
    "\n",
    "# Opprettelse av to instanser (objekter) av klassen Billager:\n",
    "lager_Volvo = Billager(\"Volvo\", 10)\n",
    "lager_Nissan = Billager(\"Nissan\", 10)\n",
    "\n",
    "# Kall av Volvo-objektets metode kalt endring, som ikke har noe retur-argument:\n",
    "lager_Volvo.endring(2)  # To stk Volvo tas inn i lageret.\n",
    "\n",
    "# Kall av Volvo-objektets metode kalt status, som har et retur-argument.\n",
    "# Variabelen status_Volvo tilordnes verdien av dette retur-argumentet.\n",
    "status_Volvo = lager_Volvo.status()\n",
    "print(f'Status for Volvo: {status_Volvo}')\n",
    "\n",
    "# Lesing (og utskrift) av Volvo-objektets attributt kalt beholdning:\n",
    "antall_Volvo_paa_lager = lager_Volvo.beholdning\n",
    "print(f'Antall Volvo på lager: {antall_Volvo_paa_lager}')\n",
    "\n",
    "# Utskrift av objektet (takket være str-metoden i klassens implementering):\n",
    "print(lager_Volvo)\n"
   ]
  },
  {
   "cell_type": "markdown",
   "id": "69aafc36-b56e-48d5-81ce-6395ec023979",
   "metadata": {},
   "source": [
    "<h1 style=\"color:darkred;\">OOP-tema vi ikke går inn på (men som er omtalt i det utdelte kap. 12 i støttelitteraturen)</h1>"
   ]
  },
  {
   "cell_type": "markdown",
   "id": "1f91922f-f405-4f72-84ec-33be6efd5146",
   "metadata": {},
   "source": [
    "- Hvordan skrive klassedefinisjonen i en modul (ekstern py-fil) \n",
    "- Arv"
   ]
  }
 ],
 "metadata": {
  "kernelspec": {
   "display_name": "Python 3 (ipykernel)",
   "language": "python",
   "name": "python3"
  },
  "language_info": {
   "codemirror_mode": {
    "name": "ipython",
    "version": 3
   },
   "file_extension": ".py",
   "mimetype": "text/x-python",
   "name": "python",
   "nbconvert_exporter": "python",
   "pygments_lexer": "ipython3",
   "version": "3.12.7"
  }
 },
 "nbformat": 4,
 "nbformat_minor": 5
}
