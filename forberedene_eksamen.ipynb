{
  "nbformat": 4,
  "nbformat_minor": 0,
  "metadata": {
    "colab": {
      "provenance": [],
      "authorship_tag": "ABX9TyPD/TZWSSwM7FN2TSC7gnSp",
      "include_colab_link": true
    },
    "kernelspec": {
      "name": "python3",
      "display_name": "Python 3"
    },
    "language_info": {
      "name": "python"
    }
  },
  "cells": [
    {
      "cell_type": "markdown",
      "metadata": {
        "id": "view-in-github",
        "colab_type": "text"
      },
      "source": [
        "<a href=\"https://colab.research.google.com/github/perbirgerhansen/usn/blob/main/forberedene_eksamen.ipynb\" target=\"_parent\"><img src=\"https://colab.research.google.com/assets/colab-badge.svg\" alt=\"Open In Colab\"/></a>"
      ]
    },
    {
      "cell_type": "code",
      "execution_count": 4,
      "metadata": {
        "colab": {
          "base_uri": "https://localhost:8080/"
        },
        "id": "icanRpxdg3IK",
        "outputId": "671c201a-acb9-42cd-f7cd-39b6871ad5d4"
      },
      "outputs": [
        {
          "output_type": "stream",
          "name": "stdout",
          "text": [
            "hva er navnet dittper\n",
            "ditt navn er per\n",
            "hva er etternavnet ditthansen\n",
            "ditt fulle navn er per hansen\n"
          ]
        }
      ],
      "source": [
        "navn = input('hva er navnet ditt')\n",
        "print('ditt navn er', navn)\n",
        "etternavn = input('hva er etternavnet ditt')\n",
        "\n",
        "print('ditt fulle navn er' , navn, etternavn)"
      ]
    },
    {
      "cell_type": "code",
      "source": [
        "import math\n",
        "\n",
        "tall1=float(input(\"skriv inn et tall\"))\n",
        "print(\"tallet du skrev var\", tall1)\n",
        "tall2=float(input(\"skriv inn et tall til\"))\n",
        "print(\"tallet du skrev var\", {math.ceil(tall1+tall2)})\n",
        "\n"
      ],
      "metadata": {
        "colab": {
          "base_uri": "https://localhost:8080/"
        },
        "id": "e2MAG8D7hdgm",
        "outputId": "f55c4c33-f07f-44d1-b120-6cec474943aa"
      },
      "execution_count": 8,
      "outputs": [
        {
          "output_type": "stream",
          "name": "stdout",
          "text": [
            "skriv inn et tall1.89766\n",
            "tallet du skrev var 1.89766\n",
            "skriv inn et tall til5.9878\n",
            "tallet du skrev var {8}\n"
          ]
        }
      ]
    },
    {
      "cell_type": "code",
      "source": [
        "import numpy as np\n",
        "\n",
        "\n",
        "liste = [\"per\", \"birger\", \"hansen\"]\n",
        "print(\"Dette er min liste\", liste[2])\n",
        "\n",
        "arr = np.array([1, 2, 3, 4, 5])\n",
        "print(\"Dette er min array\", arr[3])\n"
      ],
      "metadata": {
        "colab": {
          "base_uri": "https://localhost:8080/"
        },
        "id": "2ImkUVVojCkr",
        "outputId": "42bf0ef7-0714-4772-b99d-ee5916981b33"
      },
      "execution_count": 15,
      "outputs": [
        {
          "output_type": "stream",
          "name": "stdout",
          "text": [
            "Dette er min liste hansen\n",
            "Dette er min array 4\n"
          ]
        }
      ]
    },
    {
      "cell_type": "code",
      "source": [
        "dic = {\n",
        "    \"Per Birger Hansen\": {\n",
        "        \"adresse\": \"Huiveien, 3133 Duken\",\n",
        "        \"telefon\": \"90869958\"\n",
        "    },\n",
        "    \"Ola Nordmann\": {\n",
        "        \"adresse\": \"Storgata 15, 0161 Oslo\",\n",
        "        \"telefon\": \"12345678\"\n",
        "    },\n",
        "    \"Kari Nordmann\": {\n",
        "        \"adresse\": \"Sjøveien 22, 4005 Stavanger\",\n",
        "        \"telefon\": \"87654321\"\n",
        "    },\n",
        "    \"Per Hansen\": {\n",
        "        \"adresse\": \"Hovedveien 3, 7012 Trondheim\",\n",
        "        \"telefon\": \"45678912\"\n",
        "    },\n",
        "    \"Lise Olsen\": {\n",
        "        \"adresse\": \"Fjellgata 9, 5003 Bergen\",\n",
        "        \"telefon\": \"32165487\"\n",
        "    },\n",
        "    \"Erik Johansen\": {\n",
        "        \"adresse\": \"Solbakken 10, 2317 Hamar\",\n",
        "        \"telefon\": \"98765432\"\n",
        "    }\n",
        "}\n",
        "\n",
        "# For å hente data:\n",
        "print(dic[\"Per Birger Hansen\"][\"adresse\"])  # Skriver ut adressen\n",
        "print(dic[\"Per Birger Hansen\"][\"telefon\"])  # Skriver ut telefonnummeret\n"
      ],
      "metadata": {
        "colab": {
          "base_uri": "https://localhost:8080/"
        },
        "id": "r8L2gnEnl7TM",
        "outputId": "c748e812-1207-4621-dcd3-21e75189272b"
      },
      "execution_count": 20,
      "outputs": [
        {
          "output_type": "stream",
          "name": "stdout",
          "text": [
            "Huiveien, 3133 Duken\n",
            "90869958\n"
          ]
        }
      ]
    },
    {
      "cell_type": "code",
      "source": [
        "a = 5\n",
        "b = 5\n",
        "c = 3\n",
        "\n",
        "c == b\n",
        "#a != c"
      ],
      "metadata": {
        "colab": {
          "base_uri": "https://localhost:8080/"
        },
        "id": "UDFkR4GVobGZ",
        "outputId": "0e1e1fc5-d94c-4815-b5dc-3d6abcaf68cc"
      },
      "execution_count": 25,
      "outputs": [
        {
          "output_type": "execute_result",
          "data": {
            "text/plain": [
              "False"
            ]
          },
          "metadata": {},
          "execution_count": 25
        }
      ]
    },
    {
      "cell_type": "code",
      "source": [
        "from os import read\n",
        "import numpy as np\n",
        "import matplotlib.pyplot as plt\n",
        "\n",
        "\n",
        "x = [1,2,3,4,5,6,7,8,9,10,11]\n",
        "data = [2, 3, 7, 1, 2, 6, 0, 1, 11, 3, 3]\n",
        "\n",
        "sizes = [4,1,1,1]\n",
        "labels= ['Enere', 'Toere', 'Treere', 'Firere']\n",
        "colors = ['gold', 'yellowgreen', 'lightcoral', 'lightskyblue']\n",
        "\n",
        "plt.bar(labels, sizes, color=colors)\n",
        "#plt.plot(x, data, color=\"red\", linestyle='--', linewidth=2)\n",
        "#plt.pie(sizes, labels=labels, colors=colors)\n",
        "plt.show()\n"
      ],
      "metadata": {
        "colab": {
          "base_uri": "https://localhost:8080/",
          "height": 430
        },
        "id": "86SCRs4jqiuN",
        "outputId": "52f7ee8a-af52-4776-c043-dfcd35298f00"
      },
      "execution_count": 42,
      "outputs": [
        {
          "output_type": "display_data",
          "data": {
            "text/plain": [
              "<Figure size 640x480 with 1 Axes>"
            ],
            "image/png": "[encoded data removed]"
          },
          "metadata": {}
        }
      ]
    },
    {
      "cell_type": "code",
      "source": [
        "def utregning(a, b, c):\n",
        "  x = a + b - c\n",
        "  y= a * b * c\n",
        "  o = a / b / c\n",
        "  p = x + y + o\n",
        "  return (x, y, o, p)\n",
        "\n",
        "tall_a = 100\n",
        "tall_b = 20\n",
        "tall_c = 50\n",
        "\n",
        "#resultat = utregning(tall_a, tall_b, tall_c)\n",
        "(resultat_x, resultat_y, resultat_o, resultat_p) = utregning(tall_a, tall_b, tall_c)\n",
        "print(resultat_x)\n",
        "print(resultat_y)\n",
        "print(resultat_o)\n",
        "print(resultat_p)\n",
        "\n",
        "%whos"
      ],
      "metadata": {
        "colab": {
          "base_uri": "https://localhost:8080/"
        },
        "id": "7GrAbpf4wdYY",
        "outputId": "63a63ede-8270-4488-cbd3-ad5dd761d6cd"
      },
      "execution_count": 13,
      "outputs": [
        {
          "output_type": "stream",
          "name": "stdout",
          "text": [
            "80.0\n",
            "80000.0\n",
            "0.125\n",
            "80080.125\n",
            "Variable     Type        Data/Info\n",
            "----------------------------------\n",
            "resultat     tuple       n=4\n",
            "resultat_o   float       0.125\n",
            "resultat_p   float       80080.125\n",
            "resultat_x   float       80.0\n",
            "resultat_y   float       80000.0\n",
            "tall_a       int         100\n",
            "tall_b       int         20\n",
            "tall_c       int         50\n",
            "utregning    function    <function utregning at 0x7ab56758c680>\n"
          ]
        }
      ]
    },
    {
      "cell_type": "code",
      "source": [
        "def skatt(lonn, skatt_prosent):\n",
        "    x = lonn * skatt_prosent/100\n",
        "    return x\n",
        "\n",
        "lonn_a = 55000\n",
        "skatt_prosent = 33\n",
        "\n",
        "resultat = skatt(lonn_a, skatt_prosent)\n",
        "print(resultat)\n"
      ],
      "metadata": {
        "colab": {
          "base_uri": "https://localhost:8080/"
        },
        "id": "XRuZX7Lo5PTD",
        "outputId": "26cbb9b5-782d-4d81-ae88-753b6a71464d"
      },
      "execution_count": 52,
      "outputs": [
        {
          "output_type": "stream",
          "name": "stdout",
          "text": [
            "18150.0\n"
          ]
        }
      ]
    },
    {
      "cell_type": "code",
      "source": [
        "def myfun():\n",
        "    x_local = 20\n",
        "    global x_global\n",
        "    x_global += 1\n",
        "    #print('x_local =', x_local)\n",
        "\n",
        "x_global = 10\n",
        "\n",
        "myfun()\n",
        "#resultat = myfun()\n",
        "#print(resultat)\n",
        "#print('x_global =', x_global)\n",
        "#print('x_local =', x_local)"
      ],
      "metadata": {
        "colab": {
          "base_uri": "https://localhost:8080/"
        },
        "id": "0fiKbWjZ6GrZ",
        "outputId": "b793a1ed-e740-4b31-9c5b-35cf89fd5c02"
      },
      "execution_count": 3,
      "outputs": [
        {
          "output_type": "stream",
          "name": "stdout",
          "text": [
            "x_local = 20\n"
          ]
        }
      ]
    },
    {
      "cell_type": "code",
      "source": [
        "x = 40\n",
        "y = 20\n",
        "\n",
        "if (x > y):\n",
        "    print('x er større enn y')\n",
        "\n",
        "elif (x == y):\n",
        "    print('x er lik y')\n",
        "\n",
        "elif (x!=y):\n",
        "    print('x er ikke lik y')\n",
        "\n",
        "else:\n",
        "    print('x er midre enn y')\n",
        "\n",
        "\n",
        "\n"
      ],
      "metadata": {
        "colab": {
          "base_uri": "https://localhost:8080/"
        },
        "id": "iBEWmyjPjoeq",
        "outputId": "57d76d0d-3923-45c1-a794-4838551c6159"
      },
      "execution_count": 13,
      "outputs": [
        {
          "output_type": "stream",
          "name": "stdout",
          "text": [
            "x er større enn y\n"
          ]
        }
      ]
    },
    {
      "cell_type": "code",
      "source": [
        "def beregn_karakter(poeng):\n",
        "    if 90 <= poeng <= 100:  # Inkluderer både 90 og 100\n",
        "        return \"A\"\n",
        "    elif 80 <= poeng < 90:  # Inkluderer 80, men ikke 90\n",
        "        return \"B\"\n",
        "    elif 60 <= poeng < 80:  # Inkluderer 60, men ikke 80\n",
        "        return \"C\"\n",
        "    elif 50 <= poeng < 60:  # Inkluderer 50, men ikke 60\n",
        "        return \"D\"\n",
        "    elif 40 <= poeng < 50:  # Inkluderer 40, men ikke 50\n",
        "        return \"E\"\n",
        "    elif 0 <= poeng < 40:   # Inkluderer 0, men ikke 40\n",
        "        return \"F\"\n",
        "    else:\n",
        "        return \"Ugyldig poengsum\"  # For poeng utenfor intervallet 0-100\n",
        "\n",
        "# Test funksjonen\n",
        "poengsum = float(input(\"Oppgi poengsum: \"))\n",
        "karakter = beregn_karakter(poengsum)\n",
        "print(f\"Med {poengsum} poeng får du karakteren: {karakter}\")"
      ],
      "metadata": {
        "colab": {
          "base_uri": "https://localhost:8080/"
        },
        "id": "TqRvhx7pXwqr",
        "outputId": "f314bf8b-3b5f-4011-ac0b-af8897b5de4b"
      },
      "execution_count": 14,
      "outputs": [
        {
          "output_type": "stream",
          "name": "stdout",
          "text": [
            "Oppgi poengsum: 80\n",
            "Med 80.0 poeng får du karakteren: B\n"
          ]
        }
      ]
    },
    {
      "cell_type": "code",
      "source": [
        "\n",
        "txt = \"god dag\"\n",
        "\n",
        "for t in txt:\n",
        "    print(t)"
      ],
      "metadata": {
        "colab": {
          "base_uri": "https://localhost:8080/"
        },
        "id": "--_j74pDgogS",
        "outputId": "21251e4c-f14c-4fff-f365-2b309ac3b456"
      },
      "execution_count": 15,
      "outputs": [
        {
          "output_type": "stream",
          "name": "stdout",
          "text": [
            "g\n",
            "o\n",
            "d\n",
            " \n",
            "d\n",
            "a\n",
            "g\n"
          ]
        }
      ]
    },
    {
      "cell_type": "code",
      "source": [
        "import numpy as np\n",
        "\n",
        "\n",
        "tall = np.array([1, 2, 3, 4, 5])\n",
        "\n",
        "for t in tall:\n",
        "  print(t)"
      ],
      "metadata": {
        "colab": {
          "base_uri": "https://localhost:8080/"
        },
        "id": "OrOZbcb_nBKO",
        "outputId": "fd91d791-610f-4e0e-da3e-f8d7bd8ddc73"
      },
      "execution_count": 16,
      "outputs": [
        {
          "output_type": "stream",
          "name": "stdout",
          "text": [
            "1\n",
            "2\n",
            "3\n",
            "4\n",
            "5\n"
          ]
        }
      ]
    },
    {
      "cell_type": "code",
      "source": [
        "import numpy as np\n",
        "\n",
        "tall = np.array([1, 2, 3, 4, 5])\n",
        "txt = \"god dag\"\n",
        "\n",
        "for element in tall:\n",
        "    print(element)"
      ],
      "metadata": {
        "colab": {
          "base_uri": "https://localhost:8080/"
        },
        "id": "7GmLUS3Ungvz",
        "outputId": "34ee909b-f7cc-4331-eeac-80069a9955fb"
      },
      "execution_count": 18,
      "outputs": [
        {
          "output_type": "stream",
          "name": "stdout",
          "text": [
            "1\n",
            "2\n",
            "3\n",
            "4\n",
            "5\n"
          ]
        }
      ]
    },
    {
      "cell_type": "code",
      "source": [
        "minliste = [\"kake\", 1.2, \"to\", \"tre\", 10.5 ]\n",
        "\n",
        "#for x in minliste:\n",
        " #   print(x)\n",
        "\n",
        "for z in range(1):\n",
        "    print(minliste[4])\n",
        "\n"
      ],
      "metadata": {
        "colab": {
          "base_uri": "https://localhost:8080/"
        },
        "id": "gIvhK8f5oHPs",
        "outputId": "8b9778de-4f34-46cc-ece2-846f848aec86"
      },
      "execution_count": 45,
      "outputs": [
        {
          "output_type": "stream",
          "name": "stdout",
          "text": [
            "10.5\n"
          ]
        }
      ]
    },
    {
      "cell_type": "code",
      "source": [
        "import numpy as np\n",
        "\n",
        "arr = np.array([3, -2, 1.7, 2.3, 14, -27, 1.9, -0.1, 8.2])\n",
        "\n",
        "lengde = len(arr)\n",
        "#print(lengde)\n",
        "index = 0\n",
        "\n",
        "while index < lengde:\n",
        "    print(arr[index])\n",
        "    index += 1\n"
      ],
      "metadata": {
        "colab": {
          "base_uri": "https://localhost:8080/"
        },
        "id": "MARbqQ8fo-h3",
        "outputId": "8e3ed709-1d0c-488c-8615-b71ee4b18360"
      },
      "execution_count": 48,
      "outputs": [
        {
          "output_type": "stream",
          "name": "stdout",
          "text": [
            "3.0\n",
            "-2.0\n",
            "1.7\n",
            "2.3\n",
            "14.0\n",
            "-27.0\n",
            "1.9\n",
            "-0.1\n",
            "8.2\n"
          ]
        }
      ]
    },
    {
      "cell_type": "code",
      "source": [
        "import numpy as np\n",
        "\n",
        "arr = np.array([3, 2, 17, 2.6, 14, 27, 1.9, 0.1, 8.2])\n",
        "\n",
        "funnet = 0\n",
        "index = 0\n",
        "\n",
        "while funnet < 2:\n",
        "  if arr[index] > 5:\n",
        "     funnet += 1\n",
        "     print(arr[index])\n",
        "  index += 1\n",
        "\n",
        "print(funnet)\n",
        "\n",
        "\n"
      ],
      "metadata": {
        "colab": {
          "base_uri": "https://localhost:8080/"
        },
        "id": "gGXbuMDZvqY3",
        "outputId": "b948b333-18d1-4ca2-d81b-b35937eae087"
      },
      "execution_count": 56,
      "outputs": [
        {
          "output_type": "stream",
          "name": "stdout",
          "text": [
            "17.0\n",
            "14.0\n",
            "2\n"
          ]
        }
      ]
    },
    {
      "cell_type": "code",
      "source": [
        "import numpy as np\n",
        "\n",
        "arr = np.array([3, 2, 17, 2.6, 14, 27, 1.9, 0.1, 8.2])\n",
        "\n",
        "\n",
        "min_sum = 0\n",
        "index = 0\n",
        "\n",
        "while min_sum < 30:\n",
        "  min_sum += arr[index]\n",
        "  print(\"index er\", index, \"Tallet er\", arr[index], \"Summen er \", min_sum)\n",
        "  index += 1\n",
        "\n",
        "print(min_sum)"
      ],
      "metadata": {
        "colab": {
          "base_uri": "https://localhost:8080/"
        },
        "id": "LI0Q7QWECo9p",
        "outputId": "87605da3-6dba-444f-d891-684b70cfdf20"
      },
      "execution_count": 63,
      "outputs": [
        {
          "output_type": "stream",
          "name": "stdout",
          "text": [
            "index er 0 Tallet er 3.0 Summen er  3.0\n",
            "index er 1 Tallet er 2.0 Summen er  5.0\n",
            "index er 2 Tallet er 17.0 Summen er  22.0\n",
            "index er 3 Tallet er 2.6 Summen er  24.6\n",
            "index er 4 Tallet er 14.0 Summen er  38.6\n",
            "38.6\n"
          ]
        }
      ]
    },
    {
      "cell_type": "code",
      "source": [
        "import numpy as np\n",
        "\n",
        "data = np.loadtxt(\"gaupe.txt\")\n",
        "\n",
        "%whos\n"
      ],
      "metadata": {
        "colab": {
          "base_uri": "https://localhost:8080/",
          "height": 356
        },
        "id": "aLzklbE1EyuQ",
        "outputId": "1da71b2f-f97a-4522-c0a6-e8ed25f5e8c0"
      },
      "execution_count": 64,
      "outputs": [
        {
          "output_type": "error",
          "ename": "FileNotFoundError",
          "evalue": "gaupe.txt not found.",
          "traceback": [
            "\u001b[0;31m---------------------------------------------------------------------------\u001b[0m",
            "\u001b[0;31mFileNotFoundError\u001b[0m                         Traceback (most recent call last)",
            "\u001b[0;32m<ipython-input-64-22d2315538e4>\u001b[0m in \u001b[0;36m<cell line: 0>\u001b[0;34m()\u001b[0m\n\u001b[1;32m      1\u001b[0m \u001b[0;32mimport\u001b[0m \u001b[0mnumpy\u001b[0m \u001b[0;32mas\u001b[0m \u001b[0mnp\u001b[0m\u001b[0;34m\u001b[0m\u001b[0;34m\u001b[0m\u001b[0m\n\u001b[1;32m      2\u001b[0m \u001b[0;34m\u001b[0m\u001b[0m\n\u001b[0;32m----> 3\u001b[0;31m \u001b[0mdata\u001b[0m \u001b[0;34m=\u001b[0m \u001b[0mnp\u001b[0m\u001b[0;34m.\u001b[0m\u001b[0mloadtxt\u001b[0m\u001b[0;34m(\u001b[0m\u001b[0;34m\"gaupe.txt\"\u001b[0m\u001b[0;34m)\u001b[0m\u001b[0;34m\u001b[0m\u001b[0;34m\u001b[0m\u001b[0m\n\u001b[0m\u001b[1;32m      4\u001b[0m \u001b[0;34m\u001b[0m\u001b[0m\n\u001b[1;32m      5\u001b[0m \u001b[0mget_ipython\u001b[0m\u001b[0;34m(\u001b[0m\u001b[0;34m)\u001b[0m\u001b[0;34m.\u001b[0m\u001b[0mrun_line_magic\u001b[0m\u001b[0;34m(\u001b[0m\u001b[0;34m'whos'\u001b[0m\u001b[0;34m,\u001b[0m \u001b[0;34m''\u001b[0m\u001b[0;34m)\u001b[0m\u001b[0;34m\u001b[0m\u001b[0;34m\u001b[0m\u001b[0m\n",
            "\u001b[0;32m/usr/local/lib/python3.11/dist-packages/numpy/lib/_npyio_impl.py\u001b[0m in \u001b[0;36mloadtxt\u001b[0;34m(fname, dtype, comments, delimiter, converters, skiprows, usecols, unpack, ndmin, encoding, max_rows, quotechar, like)\u001b[0m\n\u001b[1;32m   1379\u001b[0m         \u001b[0mdelimiter\u001b[0m \u001b[0;34m=\u001b[0m \u001b[0mdelimiter\u001b[0m\u001b[0;34m.\u001b[0m\u001b[0mdecode\u001b[0m\u001b[0;34m(\u001b[0m\u001b[0;34m'latin1'\u001b[0m\u001b[0;34m)\u001b[0m\u001b[0;34m\u001b[0m\u001b[0;34m\u001b[0m\u001b[0m\n\u001b[1;32m   1380\u001b[0m \u001b[0;34m\u001b[0m\u001b[0m\n\u001b[0;32m-> 1381\u001b[0;31m     arr = _read(fname, dtype=dtype, comment=comment, delimiter=delimiter,\n\u001b[0m\u001b[1;32m   1382\u001b[0m                 \u001b[0mconverters\u001b[0m\u001b[0;34m=\u001b[0m\u001b[0mconverters\u001b[0m\u001b[0;34m,\u001b[0m \u001b[0mskiplines\u001b[0m\u001b[0;34m=\u001b[0m\u001b[0mskiprows\u001b[0m\u001b[0;34m,\u001b[0m \u001b[0musecols\u001b[0m\u001b[0;34m=\u001b[0m\u001b[0musecols\u001b[0m\u001b[0;34m,\u001b[0m\u001b[0;34m\u001b[0m\u001b[0;34m\u001b[0m\u001b[0m\n\u001b[1;32m   1383\u001b[0m                 \u001b[0munpack\u001b[0m\u001b[0;34m=\u001b[0m\u001b[0munpack\u001b[0m\u001b[0;34m,\u001b[0m \u001b[0mndmin\u001b[0m\u001b[0;34m=\u001b[0m\u001b[0mndmin\u001b[0m\u001b[0;34m,\u001b[0m \u001b[0mencoding\u001b[0m\u001b[0;34m=\u001b[0m\u001b[0mencoding\u001b[0m\u001b[0;34m,\u001b[0m\u001b[0;34m\u001b[0m\u001b[0;34m\u001b[0m\u001b[0m\n",
            "\u001b[0;32m/usr/local/lib/python3.11/dist-packages/numpy/lib/_npyio_impl.py\u001b[0m in \u001b[0;36m_read\u001b[0;34m(fname, delimiter, comment, quote, imaginary_unit, usecols, skiplines, max_rows, converters, ndmin, unpack, dtype, encoding)\u001b[0m\n\u001b[1;32m    995\u001b[0m             \u001b[0mfname\u001b[0m \u001b[0;34m=\u001b[0m \u001b[0mos\u001b[0m\u001b[0;34m.\u001b[0m\u001b[0mfspath\u001b[0m\u001b[0;34m(\u001b[0m\u001b[0mfname\u001b[0m\u001b[0;34m)\u001b[0m\u001b[0;34m\u001b[0m\u001b[0;34m\u001b[0m\u001b[0m\n\u001b[1;32m    996\u001b[0m         \u001b[0;32mif\u001b[0m \u001b[0misinstance\u001b[0m\u001b[0;34m(\u001b[0m\u001b[0mfname\u001b[0m\u001b[0;34m,\u001b[0m \u001b[0mstr\u001b[0m\u001b[0;34m)\u001b[0m\u001b[0;34m:\u001b[0m\u001b[0;34m\u001b[0m\u001b[0;34m\u001b[0m\u001b[0m\n\u001b[0;32m--> 997\u001b[0;31m             \u001b[0mfh\u001b[0m \u001b[0;34m=\u001b[0m \u001b[0mnp\u001b[0m\u001b[0;34m.\u001b[0m\u001b[0mlib\u001b[0m\u001b[0;34m.\u001b[0m\u001b[0m_datasource\u001b[0m\u001b[0;34m.\u001b[0m\u001b[0mopen\u001b[0m\u001b[0;34m(\u001b[0m\u001b[0mfname\u001b[0m\u001b[0;34m,\u001b[0m \u001b[0;34m'rt'\u001b[0m\u001b[0;34m,\u001b[0m \u001b[0mencoding\u001b[0m\u001b[0;34m=\u001b[0m\u001b[0mencoding\u001b[0m\u001b[0;34m)\u001b[0m\u001b[0;34m\u001b[0m\u001b[0;34m\u001b[0m\u001b[0m\n\u001b[0m\u001b[1;32m    998\u001b[0m             \u001b[0;32mif\u001b[0m \u001b[0mencoding\u001b[0m \u001b[0;32mis\u001b[0m \u001b[0;32mNone\u001b[0m\u001b[0;34m:\u001b[0m\u001b[0;34m\u001b[0m\u001b[0;34m\u001b[0m\u001b[0m\n\u001b[1;32m    999\u001b[0m                 \u001b[0mencoding\u001b[0m \u001b[0;34m=\u001b[0m \u001b[0mgetattr\u001b[0m\u001b[0;34m(\u001b[0m\u001b[0mfh\u001b[0m\u001b[0;34m,\u001b[0m \u001b[0;34m'encoding'\u001b[0m\u001b[0;34m,\u001b[0m \u001b[0;34m'latin1'\u001b[0m\u001b[0;34m)\u001b[0m\u001b[0;34m\u001b[0m\u001b[0;34m\u001b[0m\u001b[0m\n",
            "\u001b[0;32m/usr/local/lib/python3.11/dist-packages/numpy/lib/_datasource.py\u001b[0m in \u001b[0;36mopen\u001b[0;34m(path, mode, destpath, encoding, newline)\u001b[0m\n\u001b[1;32m    190\u001b[0m \u001b[0;34m\u001b[0m\u001b[0m\n\u001b[1;32m    191\u001b[0m     \u001b[0mds\u001b[0m \u001b[0;34m=\u001b[0m \u001b[0mDataSource\u001b[0m\u001b[0;34m(\u001b[0m\u001b[0mdestpath\u001b[0m\u001b[0;34m)\u001b[0m\u001b[0;34m\u001b[0m\u001b[0;34m\u001b[0m\u001b[0m\n\u001b[0;32m--> 192\u001b[0;31m     \u001b[0;32mreturn\u001b[0m \u001b[0mds\u001b[0m\u001b[0;34m.\u001b[0m\u001b[0mopen\u001b[0m\u001b[0;34m(\u001b[0m\u001b[0mpath\u001b[0m\u001b[0;34m,\u001b[0m \u001b[0mmode\u001b[0m\u001b[0;34m,\u001b[0m \u001b[0mencoding\u001b[0m\u001b[0;34m=\u001b[0m\u001b[0mencoding\u001b[0m\u001b[0;34m,\u001b[0m \u001b[0mnewline\u001b[0m\u001b[0;34m=\u001b[0m\u001b[0mnewline\u001b[0m\u001b[0;34m)\u001b[0m\u001b[0;34m\u001b[0m\u001b[0;34m\u001b[0m\u001b[0m\n\u001b[0m\u001b[1;32m    193\u001b[0m \u001b[0;34m\u001b[0m\u001b[0m\n\u001b[1;32m    194\u001b[0m \u001b[0;34m\u001b[0m\u001b[0m\n",
            "\u001b[0;32m/usr/local/lib/python3.11/dist-packages/numpy/lib/_datasource.py\u001b[0m in \u001b[0;36mopen\u001b[0;34m(self, path, mode, encoding, newline)\u001b[0m\n\u001b[1;32m    530\u001b[0m                                       encoding=encoding, newline=newline)\n\u001b[1;32m    531\u001b[0m         \u001b[0;32melse\u001b[0m\u001b[0;34m:\u001b[0m\u001b[0;34m\u001b[0m\u001b[0;34m\u001b[0m\u001b[0m\n\u001b[0;32m--> 532\u001b[0;31m             \u001b[0;32mraise\u001b[0m \u001b[0mFileNotFoundError\u001b[0m\u001b[0;34m(\u001b[0m\u001b[0;34mf\"{path} not found.\"\u001b[0m\u001b[0;34m)\u001b[0m\u001b[0;34m\u001b[0m\u001b[0;34m\u001b[0m\u001b[0m\n\u001b[0m\u001b[1;32m    533\u001b[0m \u001b[0;34m\u001b[0m\u001b[0m\n\u001b[1;32m    534\u001b[0m \u001b[0;34m\u001b[0m\u001b[0m\n",
            "\u001b[0;31mFileNotFoundError\u001b[0m: gaupe.txt not found."
          ]
        }
      ]
    },
    {
      "cell_type": "code",
      "source": [],
      "metadata": {
        "id": "rbGub6McIfDj"
      },
      "execution_count": null,
      "outputs": []
    }
  ]
}