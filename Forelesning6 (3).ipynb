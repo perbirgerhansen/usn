{
 "cells": [
  {
   "attachments": {
    "ecc36d3d-db69-4a47-8efc-2cc77ad20319.jpg": {
     "image/jpeg": "[encoded data removed]"
    }
   },
   "cell_type": "markdown",
   "id": "136057d7-1376-4682-a844-1c2fc0f1113f",
   "metadata": {},
   "source": [
    "# Forelesning 6\n",
    "  \n",
    "- ØKT 1: Testing og feilsøking i egen kode\n",
    "- ØKT 2: Bruk av kunstig intelligens-verktøy i programmering\n",
    "\n",
    "\n",
    "\n",
    " ![Skjermbilde 2025-01-13 095124.jpg](attachment:ecc36d3d-db69-4a47-8efc-2cc77ad20319.jpg)\n",
    "\n",
    "**P**roblem **E**xists **B**etween **K**eyboard and **C**hair - (**PEBKAC**)\n",
    "\n"
   ]
  },
  {
   "cell_type": "markdown",
   "id": "2bbf380b-2143-4022-937c-6b2bbd2868cc",
   "metadata": {},
   "source": [
    "#### ØKT 1: Testing og feilsøking i egen kode\n",
    "\n",
    "Det er to hovedtyper feil:\r",
    "- Syntaksfeil, som er rent programtekniske feil, f.eks. at du har glemt en parentes eller\r\n",
    "skrevet et funksjonsnavn feil e.l. Programmeringsmiljøet som du brkuer, vil indikere syntaksfeil.\n",
    "- Funksjonsfeil, som er feil i programmets logikk eller algoritmer. Funksjonsfeil kan være svært så vanskelig å finne!"
   ]
  },
  {
   "cell_type": "code",
   "execution_count": 206,
   "id": "7be80d8e-360b-42c7-a04e-e8c0e5046d92",
   "metadata": {},
   "outputs": [
    {
     "name": "stdout",
     "output_type": "stream",
     "text": [
      "24\n",
      "20\n"
     ]
    }
   ],
   "source": [
    "#Eksempel på syntaksfeil (og feilmelding) og en enkel logisk feil:\n",
    "\n",
    "biler_sort = 6\n",
    "biler_hvit = 12\n",
    "biler_gul = 2\n",
    "\n",
    "#Her er det en syntaksfeil: ( fjern # i de to neste linjene for å se hvilken feilmelding du får.)\n",
    "#antall_biler = biler_sort + biler_vit + biler_gul\n",
    "#print(antall_biler)\n",
    "\n",
    "#Her er det en logisk feil: ( koden vil kjøre, men produserer feil svar) \n",
    "antall_biler = biler_sort + biler_hvit + biler_sort\n",
    "print(antall_biler)\n",
    "\n",
    "#Her er korrekt kode: \n",
    "antall_biler = biler_sort + biler_hvit + biler_gul\n",
    "print(antall_biler)\n",
    "\n"
   ]
  },
  {
   "cell_type": "markdown",
   "id": "8ce22232-5c75-415f-8d7a-1522837a24fd",
   "metadata": {},
   "source": [
    "#### Noen typiske syntaksfeil er gitt i kodesnutten under.\n",
    "\n",
    "Fjern # linje for linje og studer feilmeldingen du får. Rett opp feilen og kjør koden på ny.  \n",
    "\n",
    "Typiske feilmeldinger er:\n",
    "- IndexError  (gjerne indeks som ikke finnes i en liste/array)\n",
    "- SyntaxError (gjerne skrivefeil i navn/variable)\n",
    "- AttributeError (attributt eller metode som ikke finnes)\n",
    "- TypeError (gjerne at operasjon blir brukt på feil datatype)\n",
    "- ValueError (gjerne at argument til funksjoen av riktig type, men en upassende verdi)\n",
    "- ModuleNotFoundError (gjerne at modulen som skal importeres finnes ikke / skrivefeil i modulnavn)\n",
    "- ZeroVivisonError (oppstår når du prøver å dele et tall med null)\n"
   ]
  },
  {
   "cell_type": "code",
   "execution_count": 127,
   "id": "293a4c95-0916-410c-b1d5-9ba8fbc3a17b",
   "metadata": {},
   "outputs": [],
   "source": [
    "#Eksempel 1: Fjern # linje for linje og studer feilmeldingen du får. Rett opp feilen og kjør koden på ny.\n",
    "import numpy as np\n",
    "\n",
    "#a = [1, 3, 7  9]  \n",
    "\n",
    "#b = np.aray(a)\n",
    "\n",
    "#c = b[5]  \n",
    "\n",
    "#d = 3 + \"12\"\n",
    "\n",
    "#d = int(\"hei\")\n",
    "\n",
    "#d = np.array([3, -2 , 0))\n",
    "\n",
    "#import matplotlib.plot as plt\n",
    "\n",
    "#svar = 9/(2-d[1])\n"
   ]
  },
  {
   "cell_type": "markdown",
   "id": "f4a391c5-b0a4-4e7d-bb52-853be343dba9",
   "metadata": {},
   "source": [
    "#### Hvordan teste egen kode?\n",
    "\n",
    "Må gjøres på en systematisk måte\n",
    "\n",
    "- skaff deg en oversikt over hva koden skal gjøre.\n",
    "- består koden av flere delprogrammer, så gå gjennom koden del for del.\n",
    "- gå gjennom en og en funksjon. \n",
    "- hva sendes inn, og hva returenres? Sjekk resultatet for verdier som gjør det lett å kontrollere om funksjonen fungerer som tiltenkt\n",
    "- hva med andre, mer vilkårlig verdier?\n",
    "- kjør så en test med hele koden\n",
    " \n"
   ]
  },
  {
   "cell_type": "markdown",
   "id": "e63d78cc-5147-4aa6-9750-3fad82138537",
   "metadata": {},
   "source": [
    "#### En sammensatt oppgave\n",
    "\n",
    "Koden som helhet skal ta inn ett tall på binær form (eksempelvis tallet 10110) og skrive ut tallet i vårt 10-tallssystem ( i dette tilfellet tallet 22). \n",
    "\n",
    "Til info, utregning fra binært tall til 10-tallssystemet foregår slik: \n",
    "Tildel potenser av 2 (av økende grad fra høyre til venstre) til hvert siffer etter følgende oppskrift:\n",
    "\n",
    "Det binære tallet <span style=\"color: red;\">1 0 1 1 0</span>\n",
    "\n",
    "blir tildelt 2'er potenser \n",
    "\n",
    "$ \\textcolor{red}{1}\\cdot 2^4  + \\textcolor{red}{0}\\cdot 2^3 + \\textcolor{red}{1} \\cdot 2^2 + \\textcolor{red}{1}\\cdot 2^1 + \\textcolor{red}{0} \\cdot 2^0$  = 22 (på 10-tallsform)\n",
    "\n",
    "mens \n",
    "\n",
    "det binære tallet <span style=\"color: red;\">1 0 1</span>\n",
    "\n",
    "blir \n",
    "$\\textcolor{red}{1}\\cdot 2^2 + \\textcolor{red}{0}\\cdot 2^1 + \\textcolor{red}{1} \\cdot 2^0$  = 5 (på 10-tallsform)\n",
    "\n",
    "\n",
    "I all hovedsak består koden nedefor av to deler:\n",
    "\n",
    "- Del 1: koden tar inn et tall (feks tallet 10110) og omformer til array [1,0,1,1,0] \n",
    "- Del 2: ved bruk av dictionaryoppslag (basert på antall siffer for det binære tallet) skal array [16, 8, 4, 2, 1] fremskaffes og ved bruk av vektoriserte beregninger får vi at  [1 0 1 1 0]*[16, 8, 4, 2, 1] = [16, 0, 4, 2, 0]. Summen av disse tallene er 22. \n",
    "\n",
    "<span style=\"color: red;\">Det er \"gjemt\" en logisk feil i koden ett eller annet sted. Vår oppgave er å finne den...</span>\n"
   ]
  },
  {
   "cell_type": "code",
   "execution_count": 208,
   "id": "a2a48ad7-e952-4082-9848-b18a877a1aff",
   "metadata": {},
   "outputs": [
    {
     "name": "stdin",
     "output_type": "stream",
     "text": [
      "skriv inn tallet her:  101\n"
     ]
    }
   ],
   "source": [
    "#Koden er gitt her (MERK: denne koden kan vi skrive mye mer elegant og generell når vi har lært om for-løkker, forelesning 8)\n",
    "import numpy as np\n",
    "\n",
    "def mapping(bin_array, antall_siffer, bin_dict):\n",
    "     tall = bin_dict[antall_siffer]\n",
    "     svar = bin_array * tall \n",
    "     return sum(svar)\n",
    "\n",
    "\n",
    "def finn_ant_siffer( bin_tall):\n",
    "    #ønsker at feks tallet 1010 skal mappes til array [1,0,1,0]\n",
    "    bin_list = list(map(int, str(bin_tall)))\n",
    "    #lager en array av listen\n",
    "    bin_array = np.array(bin_list)\n",
    "    #finner antall siffer\n",
    "    ant_siffer = len(bin_array)\n",
    "    return bin_array, ant_siffer\n",
    "\n",
    "\n",
    "#dictionary som har stigende 2er potenser \n",
    "b_dict =  {\n",
    "    1: np.array([2]),\n",
    "    2: np.array([2, 1]),\n",
    "    3: np.array([4, 2, 1]),\n",
    "    4: np.array([8, 4, 2, 1]),\n",
    "    5: np.array([16, 8, 4, 2, 1]),\n",
    "    6: np.array([32, 16, 8, 4, 2, 1]),\n",
    "    }\n",
    "bin_tall = int(input(\"skriv inn det binære tallet her: \"))\n",
    "\n",
    "bin_array, ant_siffer = finn_ant_siffer(bin_tall)\n",
    "\n",
    "svar = mapping(bin_array, ant_siffer, b_dict) \n",
    "\n",
    "print(svar) \n",
    "\n",
    "\n"
   ]
  },
  {
   "cell_type": "markdown",
   "id": "98f382b6-7367-4c17-bb1c-9dcc171f7782",
   "metadata": {},
   "source": [
    "#### ØKT 2: Bruk av kunstig intelligens-verktøy i programmering\n",
    "\n",
    "Tar her utgangspunkt i verktøyet CoPilot, men du må gjerne bruke ChatGPT eller lignende.\n",
    "\n",
    "- Det er **ikke juks** å bruke disse verktøyene i læringsprosessen, tvert imot, du oppfordres til å bruke dem\n",
    "- Du har da tilgang på hjelp 24 timer i døgnet, 7 dager i uken\n",
    "- Med dette verktøyet tilgjengelig betyr det at det er du selv som bestemmer om du skal stå \"fast\" på en oppgave, eller ikke\n",
    "- Med bruk av disse verktøyene er det **posessen som gir læringsutbytte, ikke sluttsvaret**\n",
    "  \n"
   ]
  },
  {
   "cell_type": "markdown",
   "id": "6f43b027-726a-4034-b751-9558845cbc38",
   "metadata": {},
   "source": [
    "#### Oppgave 1)\r",
    "Studer koden gitt under (før kjøring). Finner du feilen?\n",
    "\n",
    "Kjør så koden, hvilken feilmeling får du?\n",
    "\n",
    "\n",
    "Bruk så KI-verktøy til å sjekke koden."
   ]
  },
  {
   "cell_type": "code",
   "execution_count": 29,
   "id": "b3e75a8d-e72b-4ff6-8f34-0c8fcfc316dc",
   "metadata": {},
   "outputs": [],
   "source": [
    "#Koden er ment å regne ut arealet av en trekant, gitt grunnlinje og høyde\n",
    "\n",
    "def t(h, g):\n",
    "    svar = g*h/2\n",
    "    return svar\n",
    "\n",
    "t = 2\n",
    "g = 3\n",
    "h = 6 \n",
    "\n",
    "areal = t(g, h)\n",
    "\n",
    "print(\"Arealet av trekanten er\", areal)\n",
    "\n"
   ]
  },
  {
   "cell_type": "markdown",
   "id": "c04cf437-3d29-4b34-baed-65c1bdc08126",
   "metadata": {},
   "source": [
    "#### Oppgave  2)\n",
    "Koden gitt under skal avgjøre om input (gitt fra bruker) er et heltall eller et desimaltall.\n",
    "\n",
    "Logikken som er lagt til grunn, er at følgend utsagn blir False: int(3.7) == 3.7 , siden int(3.7) = 3\n",
    "\n",
    "Studer koden (før kjøring). Fungerer denne koden som tiltenkt?\n",
    "\n",
    "Bruk så KI-verktøy til å avgjøre om koden fungere som tiltenkt.\n",
    "\n",
    "----------------------\n",
    "Merk: Oppgavene vi skal kikke på under kunne vært skrevet på en mer elegant måte, men if/else betingelser kommeer ikke før forelesning 7).\n"
   ]
  },
  {
   "cell_type": "code",
   "execution_count": 65,
   "id": "b0d8573f-1954-4a52-b07e-59ff68032842",
   "metadata": {},
   "outputs": [
    {
     "name": "stdin",
     "output_type": "stream",
     "text": [
      "Skriv inn et tall her:  23\n"
     ]
    },
    {
     "name": "stdout",
     "output_type": "stream",
     "text": [
      "Tallet du tastet inn er 23  og det er True at det er et heltall\n"
     ]
    }
   ],
   "source": [
    "           \n",
    "tall = input('Skriv inn et tall her: ')\n",
    "    \n",
    "float_tall = float(tall)\n",
    "int_tall = int(float_tall)\n",
    "    \n",
    "svar = (int_tall == float_tall) # svar blir True eller False\n",
    "print(\"Tallet du tastet inn er\", tall, \" og det er\", svar, \"at det er et heltall\")\n",
    "    \n"
   ]
  },
  {
   "cell_type": "markdown",
   "id": "e2372a54-597c-470d-bd36-67e2d08f57df",
   "metadata": {},
   "source": [
    "#### Oppgave  3)\n",
    "Koden gitt under skal avgjøre om input (gitt fra bruker) er et heltall eller et desimaltall.\n",
    "\n",
    "Logikken som som er lagt til grunn, er at dersom tallet oppgitt med punktum, kan det ikke være et heltall\n",
    "\n",
    "Studer koden (før kjøring). Fungerer denne koden som tiltenkt? \n",
    "\n",
    "Bruk så KI-verktøy til å avgjøre om koden fungere som tiltenkt."
   ]
  },
  {
   "cell_type": "code",
   "execution_count": 49,
   "id": "f61c6952-d0f6-474c-91ec-dc2650642a40",
   "metadata": {},
   "outputs": [
    {
     "name": "stdin",
     "output_type": "stream",
     "text": [
      "Skriv inn et tall her:  34.7\n"
     ]
    },
    {
     "name": "stdout",
     "output_type": "stream",
     "text": [
      "At 34.7 er et heltall er False\n"
     ]
    }
   ],
   "source": [
    "tall = input('Skriv inn et tall her: ')\n",
    "    \n",
    "# Sjekk om tallet er oppgitt med punktum => desimaltall\n",
    "test = tall.split('.')\n",
    "\n",
    "svar = len(test) == 1 # Er lengden større enn 1, (altså at det har foregått en split, er tallet oppgitt med punktum (og er da ikke et heltall) \n",
    "print(\"At\", tall, 'er et heltall er', svar)\n"
   ]
  },
  {
   "cell_type": "markdown",
   "id": "b720a173-4bb8-4832-891a-ab2845a3df74",
   "metadata": {},
   "source": [
    "#### Oppgave  4)\n",
    "\n",
    "Bruk en chatbot til å finne feilen i fra den sammensatte oppgaven gitt i økt1.\n",
    "\n",
    "Stoler du på svaret chatebot'en gir?\n"
   ]
  }
 ],
 "metadata": {
  "kernelspec": {
   "display_name": "Python 3 (ipykernel)",
   "language": "python",
   "name": "python3"
  },
  "language_info": {
   "codemirror_mode": {
    "name": "ipython",
    "version": 3
   },
   "file_extension": ".py",
   "mimetype": "text/x-python",
   "name": "python",
   "nbconvert_exporter": "python",
   "pygments_lexer": "ipython3",
   "version": "3.12.4"
  }
 },
 "nbformat": 4,
 "nbformat_minor": 5
}
