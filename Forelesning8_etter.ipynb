{
 "cells": [
  {
   "attachments": {},
   "cell_type": "markdown",
   "id": "14a91399-7ec9-49b3-850d-b969a6c80329",
   "metadata": {},
   "source": [
    "# Forelesning 8: for-løkke og while-løkke\n",
    "Løkker: brukes til å iterere over elementer i en sekvens (som lister, strenger, arrays, tupler osv.).\n",
    "\n",
    "### For-løkker\n",
    "- Antall iterasjoner er kjent på forhånd.\n",
    "- Syntaks:\n",
    "\n",
    "##### for element in sekvens:\n",
    "    # kodeblokk\n",
    "\n",
    "\n",
    "##### for i in range(start, stop):\n",
    "    # kodeblokk\n",
    "\n",
    "\n",
    "### while-løkker\r",
    "- Betinget iterasjon: Fortsetter å kjøre så lenge en gitt betingelse er sann.\n",
    "- Antall iterasjoner er **ikke** (nødvendigvis) kjent på forhånd.\n",
    "- Syntaks:\n",
    "\r",
    "##### while betingelse:\n",
    "    # kodeblokk\n",
    "\n",
    "        "
   ]
  },
  {
   "cell_type": "code",
   "execution_count": 44,
   "id": "d867bb4a-7d79-4c6d-b00d-f065125d6ce2",
   "metadata": {},
   "outputs": [
    {
     "name": "stdout",
     "output_type": "stream",
     "text": [
      "12.3\n",
      "kake\n",
      "-17\n",
      "hei\n",
      "11.5\n"
     ]
    }
   ],
   "source": [
    "# eks\n",
    "\n",
    "txt = \"god dag\"\n",
    "print(txt)\n",
    "\n",
    "for element in txt:\n",
    "    print(element)\n",
    "\n",
    "min_liste = [12.3, \"kake\", -17, \"hei\", 23/2]\n",
    "print(min_liste)\n",
    "\n",
    "for element in min_liste:\n",
    "    print(element)\n",
    "\n",
    "for i in range(0, 5):\n",
    "    print(min_liste[i])\n",
    "\n",
    "\n"
   ]
  },
  {
   "cell_type": "markdown",
   "id": "3fe3b5a0-99f2-4159-a960-c7146aa1d4e3",
   "metadata": {},
   "source": [
    "## For-løkker \n",
    "#### Noen typske problemstillinger hvor bruk av for-løkker egner seg\n",
    "\n",
    "Gitt følgende array:\n",
    "\n",
    "arr = np.array([3, -2, 1.7, 2.6, 14, -27, 1.9, -0.1, 8.2])\n",
    "\n",
    "1) lag et program som skriv ut ett og ett element i denne arrayen.\n",
    "2) lag et program som skriver ut annen hvert element i arrayen. \n",
    "3) lag en funksjon som finner antall elementer som er positiv og antall elementer som er negative."
   ]
  },
  {
   "cell_type": "code",
   "execution_count": 72,
   "id": "7be80d8e-360b-42c7-a04e-e8c0e5046d92",
   "metadata": {},
   "outputs": [
    {
     "name": "stdout",
     "output_type": "stream",
     "text": [
      "3.0\n",
      "-2.0\n",
      "1.7\n",
      "2.6\n",
      "14.0\n",
      "-27.0\n",
      "1.9\n",
      "-0.1\n",
      "8.2\n",
      "3.0\n",
      "1.7\n",
      "14.0\n",
      "1.9\n",
      "8.2\n",
      "Antall positive er 6\n",
      "Antall negative er 3\n"
     ]
    }
   ],
   "source": [
    "#Eksempel på for-løkke\n",
    "\n",
    "import numpy as np\n",
    "arr = np.array([3, -2, 1.7, 2.6, 14, -27, 1.9, -0.1, 8.2])\n",
    "\n",
    "#1)\n",
    "for e in arr:\n",
    "    print(e)\n",
    "\n",
    "#2)\n",
    "for e in range(0, len(arr), 2):\n",
    "    print(arr[e])\n",
    "    \n",
    "\n",
    "def finn_pos_neg(arr):\n",
    "    ant_pos = 0\n",
    "    ant_neg = 0\n",
    "    for element in arr:\n",
    "\n",
    "        if element >= 0:\n",
    "            ant_pos += 1\n",
    "        else:\n",
    "            ant_neg += 1\n",
    "    print(\"Antall positive er\", ant_pos)\n",
    "    print(\"Antall negative er\", ant_neg)\n",
    "    \n",
    "finn_pos_neg(arr)\n",
    "\n"
   ]
  },
  {
   "cell_type": "markdown",
   "id": "8ce22232-5c75-415f-8d7a-1522837a24fd",
   "metadata": {},
   "source": [
    "## While-løkker\n",
    "#### While-løkker kan erstatte for-løkker for noen problemstillinger (og vice versa) \n",
    "\n",
    "Gitt følgende array:\n",
    "\n",
    "arr = np.array([3, -2, 1.7, 2.3, 14, -27, 1.9, -0.1, 8.2])\n",
    "\n",
    "1) lag et program som skriv ut ett og ett element i denne arrayen.\n",
    "2) lag et program som skriver ut annen hvert element i arrayen. "
   ]
  },
  {
   "cell_type": "code",
   "execution_count": 78,
   "id": "293a4c95-0916-410c-b1d5-9ba8fbc3a17b",
   "metadata": {},
   "outputs": [
    {
     "name": "stdout",
     "output_type": "stream",
     "text": [
      "3.0\n",
      "1.7\n",
      "14.0\n",
      "1.9\n",
      "8.2\n"
     ]
    }
   ],
   "source": [
    "#Eksempel på kode: \n",
    "import numpy as np\n",
    "arr = np.array([3, -2, 1.7, 2.3, 14, -27, 1.9, -0.1, 8.2])\n",
    "\n",
    "lengde = len(arr)\n",
    "#print(lengde)\n",
    "index = 0\n",
    "\n",
    "while index < lengde:\n",
    "      print(arr[index])\n",
    "      index += 2          #velg index +=1 for hvert element\n",
    "    \n",
    "\n",
    "\n"
   ]
  },
  {
   "cell_type": "markdown",
   "id": "8557dcc2-9b91-4a38-aa2e-84bb1332ca3a",
   "metadata": {},
   "source": [
    "## While-løkker \n",
    "#### Noen typske problemstillinger hvor bruk av while-løkker egner seg\n",
    "\n",
    "arr = np.array([3, 2, 1.7, 2.6, 14, 27, 1.9, 0.1, 8.2])\n",
    "\n",
    "1) Lag en funksjon som søker gjennom arrayen og finner de to første tallene som er større eller lik fem.\r\n",
    "2) \r\n",
    "Lag en funksjon som finner ut hvor mange element i arrayen arr som må summerer for at summen skal bli større eller lik 20. Antallet elementer som inngikk i summasjonen skrives til skjerm.\r\n",
    "\n",
    "\n",
    "\n",
    "\n"
   ]
  },
  {
   "cell_type": "code",
   "execution_count": 88,
   "id": "ace12a8b-95a1-4eee-b6ff-d5b8b4a2927c",
   "metadata": {},
   "outputs": [
    {
     "name": "stdout",
     "output_type": "stream",
     "text": [
      "14.0\n",
      "27.0\n"
     ]
    }
   ],
   "source": [
    "#Eksempel på kode: \n",
    "import numpy as np\n",
    "arr = np.array([3, 2, 1.7, 2.6, 14, 27, 1.9, 0.1, 8.2])\n",
    "\n",
    "def min_func(arr):\n",
    "  funnet = 0\n",
    "  index = 0\n",
    "\n",
    "  while funnet < 2:\n",
    "\n",
    "     if arr[index] >= 5:\n",
    "         funnet += 1\n",
    "         print(arr[index])\n",
    "    \n",
    "     index +=1    \n",
    "\n",
    "min_func(arr)    \n",
    "\n",
    "\n",
    "\n"
   ]
  },
  {
   "cell_type": "code",
   "execution_count": 116,
   "id": "20589d0a-eec6-4786-a181-84813514290f",
   "metadata": {},
   "outputs": [
    {
     "name": "stdout",
     "output_type": "stream",
     "text": [
      "Antall element: 5\n"
     ]
    }
   ],
   "source": [
    "import numpy as np\n",
    "arr = np.array([3, 2, 1.7, 2.6, 14, 27, 1.9, 0.1, 8.2])\n",
    "\n",
    "\n",
    "def finn_ant_elm(arr):\n",
    "\n",
    "  min_sum = 0\n",
    "  index = 0\n",
    "  ant_elem  = 0\n",
    "\n",
    "  while min_sum < 20 and index < len(arr):\n",
    "       min_sum += arr[index]\n",
    "       ant_elem += 1\n",
    "       #print(\"Index er\", index, \"tallet er\", arr[index], \"summen er\", min_sum)\n",
    "       index += 1\n",
    "  print(\"Antall element:\", ant_elem)\n",
    "\n",
    "\n",
    "finn_ant_elm(arr)"
   ]
  }
 ],
 "metadata": {
  "kernelspec": {
   "display_name": "Python 3 (ipykernel)",
   "language": "python",
   "name": "python3"
  },
  "language_info": {
   "codemirror_mode": {
    "name": "ipython",
    "version": 3
   },
   "file_extension": ".py",
   "mimetype": "text/x-python",
   "name": "python",
   "nbconvert_exporter": "python",
   "pygments_lexer": "ipython3",
   "version": "3.12.4"
  }
 },
 "nbformat": 4,
 "nbformat_minor": 5
}
