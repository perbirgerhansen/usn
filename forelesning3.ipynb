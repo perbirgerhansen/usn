{
 "cells": [
  {
   "attachments": {},
   "cell_type": "markdown",
   "id": "07985261-6004-4dfc-b1f1-24037fd8b2e7",
   "metadata": {},
   "source": [
    "# Forelesning 3  - Variable og datatyper\n",
    "\n",
    "## Variable \n",
    "- Hva er en variabel?\n",
    "- Hvorfor bruke variable?\n",
    "## Datatyper\n",
    "- Heltall og desimaltall\n",
    "- Strings (tekst)\n",
    "- Lister og Arrays\n",
    "- Dictionarys\n",
    "- Boolske (True or False)\n"
   ]
  },
  {
   "cell_type": "code",
   "execution_count": 44,
   "id": "03bdfc76-b3df-43f8-b569-fb80085b1602",
   "metadata": {},
   "outputs": [
    {
     "name": "stdout",
     "output_type": "stream",
     "text": [
      "I år er årstallet 2025\n",
      "Neste år er det 2026\n",
      "Om 10 år vil det være 2035\n"
     ]
    }
   ],
   "source": [
    "#Eksemple på et program som ikke bruker variable\n",
    "\n",
    "print(\"I år er årstallet 2024\")\n",
    "print(\"Neste år er det 2025\")\n",
    "print(\"Om 10 år vil det være 2034\")\n"
   ]
  },
  {
   "attachments": {},
   "cell_type": "markdown",
   "id": "3074a17d-b253-40d6-82e0-cc6ed718d524",
   "metadata": {},
   "source": [
    "### Hva er en variabel\n",
    "\n",
    "- Plassholder – tar vare på et dataelement (tall, lister, tekst ...) \r",
    "- Må opprettes før bruk (deklareres) \n",
    "- Variabler erstattes med sine verdier når de brukes i uttrykk\n",
    "- Kan endre verdi underveis\r\n",
    "\n"
   ]
  },
  {
   "cell_type": "code",
   "execution_count": 60,
   "id": "79f03b96-74dd-4148-83b3-2d321ca6241c",
   "metadata": {},
   "outputs": [
    {
     "name": "stdin",
     "output_type": "stream",
     "text": [
      "Hviket år er det i år?  1814\n"
     ]
    },
    {
     "name": "stdout",
     "output_type": "stream",
     "text": [
      "I år er årstallet 1814\n",
      "Neste år er det 1815\n",
      "Om 10 år vil det være 1824\n"
     ]
    }
   ],
   "source": [
    "#Eksempel på at variabler erstattes med sine verdier når de brukes i uttrykk\n",
    "\n",
    "år = int(input(\"Hviket år er det i år? \"))\n",
    "\n",
    "print(\"I år er årstallet\", år)\n",
    "print(\"Neste år er det\", år + 1)\n",
    "print(\"Om 10 år vil det være\", år + 10)\n",
    "\n"
   ]
  },
  {
   "cell_type": "code",
   "execution_count": 72,
   "id": "7475ef4b-e023-4b21-b60e-6425ea861092",
   "metadata": {},
   "outputs": [
    {
     "name": "stdin",
     "output_type": "stream",
     "text": [
      "Hvor mye vil du sette inn?  300\n"
     ]
    },
    {
     "name": "stdout",
     "output_type": "stream",
     "text": [
      "Nå har du kr 5300 på konto\n"
     ]
    }
   ],
   "source": [
    "#Eksempel på at variabelen endrer verdi undervis\n",
    "\n",
    "konto = 5000\n",
    "\n",
    "innskudd = int(input(\"Hvor mye vil du sette inn? \")) \n",
    "\n",
    "konto = konto + inskudd\n",
    "print(\"Nå har du kr\", konto, \"på konto\")\n"
   ]
  },
  {
   "cell_type": "markdown",
   "id": "65bfa247-c966-4507-acc4-4a79f3fc9282",
   "metadata": {},
   "source": [
    "### Datatyper - Heltall og desimaltall\n",
    "\n",
    "- int (heltall) står for “integer” og brukes til å representere heltall, som er tall uten desimaler.\n",
    "- float (flyttall)  står for “floating point number” og brukes til å representere reelle tall, som er tall med desimaler.\n",
    "- vi kan konvertere fra int til float og motsatt\n",
    "      "
   ]
  },
  {
   "cell_type": "code",
   "execution_count": 116,
   "id": "fc83cbaf-82bd-476f-bd8b-9e5ef83721c8",
   "metadata": {},
   "outputs": [
    {
     "name": "stdout",
     "output_type": "stream",
     "text": [
      "1.0\n",
      "-3.0\n",
      "10.0\n",
      "0.3333333333333333\n"
     ]
    }
   ],
   "source": [
    "#Eksempel på heltall og desimaltall \n",
    "\n",
    "a = 2\n",
    "b = 5.0\n",
    "\n",
    "c = 1 + 10**(-16) #Tall blir bare representert opp til en gitt nøyaktighet  \n",
    "print(c) \n",
    "\n",
    "print(a - b)\n",
    "print(a*b)\n",
    "print(a / (b + c) )\n",
    "\n",
    "\n"
   ]
  },
  {
   "cell_type": "markdown",
   "id": "6ea8a1fb-16e6-413f-9321-e165f969f29a",
   "metadata": {},
   "source": [
    "### Datatyper - Strings\n",
    "I Python er en string (streng) en sekvens av tegn som brukes til å representere tekst. Strings kan inneholde bokstaver, tall, symboler og mellomrom. De er en av de mest brukte datatypene i Python og kan defineres ved å bruke enten enkelt- eller dobbeltanførselstegn\n"
   ]
  },
  {
   "cell_type": "code",
   "execution_count": 124,
   "id": "031e0dd8-1dbe-4718-b62d-9f3908b9d1bc",
   "metadata": {},
   "outputs": [
    {
     "name": "stdin",
     "output_type": "stream",
     "text": [
      "Skriv inn året 2024\n"
     ]
    },
    {
     "name": "stdout",
     "output_type": "stream",
     "text": [
      "neste år er det 2024\n",
      "Variable               Type        Data/Info\n",
      "--------------------------------------------\n",
      "a                      int         2\n",
      "b                      float       5.0\n",
      "c                      float       1.0\n",
      "dataframe_columns      function    <function dataframe_colum<...>ns at 0x0000029FC7B1C2C0>\n",
      "dataframe_hash         function    <function dataframe_hash at 0x0000029FC9FACF40>\n",
      "dtypes_str             function    <function dtypes_str at 0x0000029FCB6EF920>\n",
      "get_dataframes         function    <function get_dataframes at 0x0000029FC9FAD3A0>\n",
      "getpass                module      <module 'getpass' from 'C<...>conda3\\\\Lib\\\\getpass.py'>\n",
      "hashlib                module      <module 'hashlib' from 'C<...>conda3\\\\Lib\\\\hashlib.py'>\n",
      "import_pandas_safely   function    <function import_pandas_s<...>ly at 0x0000029FCC769B20>\n",
      "is_data_frame          function    <function is_data_frame at 0x0000029FCC769260>\n",
      "json                   module      <module 'json' from 'C:\\\\<...>\\Lib\\\\json\\\\__init__.py'>\n",
      "år                     str         2024\n"
     ]
    }
   ],
   "source": [
    "#Eksempler på bruk av strings \n",
    "\n",
    "år = int(input(\"Skriv inn året\"))\n",
    "\n",
    "print(\"neste år er det\", år)\n",
    "\n",
    "%whos\n"
   ]
  },
  {
   "cell_type": "code",
   "execution_count": 144,
   "id": "74513e7c-8b69-439d-a749-37a83fed3336",
   "metadata": {},
   "outputs": [
    {
     "name": "stdout",
     "output_type": "stream",
     "text": [
      "123434\n",
      "goddag\n",
      "programmering er gøy\n"
     ]
    }
   ],
   "source": [
    "%reset -f\n",
    "\n",
    "a = \"abcd\"\n",
    "b = \"1234\"\n",
    "c = \"34\"\n",
    "\n",
    "print(int(b+c))\n",
    "\n",
    "e = \"god\"\n",
    "f = \"dag\"\n",
    "print(e+f)\n",
    "\n",
    "var_1 = 'programmering'\n",
    "var_2 = \"er gøy\"\n",
    "\n",
    "print(var_1 + \" \" + var_2)\n"
   ]
  },
  {
   "attachments": {
    "40696b56-0b2b-434a-aeea-5e4824114f9c.png": {
     "image/png": "[encoded data removed]"
    },
    "9419fd30-cb0e-4855-afb8-0d255f233cb8.png": {
     "image/png": "[encoded data removed]"
    },
    "c7e37266-0d45-4d26-9a46-2be1fc213dc6.png": {
     "image/png": "[encoded data removed]"
    }
   },
   "cell_type": "markdown",
   "id": "2088b682-63a4-467a-be2d-6a500833b654",
   "metadata": {},
   "source": [
    "### Datatyper - Lister\n",
    "\n",
    "I Python er lister en av de mest brukte datatypene for å lagre og manipulere en samling av elementer. En liste kan inneholde forskjellige datatyper, inkludert tall, strenger, og til og med andre lister.\n",
    "\n",
    "\n",
    "- En liste med tall: numbers = [1, 2, 3, 4 ,5]\n",
    "\n",
    "![image.png](attachment:9419fd30-cb0e-4855-afb8-0d255f233cb8.png)\n",
    "\n",
    "- En liste med strenger: fruits = [\"eple\", \"banan\", \"appelsin\"]\n",
    "\n",
    "![image.png](attachment:c7e37266-0d45-4d26-9a46-2be1fc213dc6.png)\n",
    "\n",
    "- En liste med blandede datatype: mixed_list = [1, \"hei\", 3.1, 4, -1]\n",
    "\n",
    "![image.png](attachment:40696b56-0b2b-434a-aeea-5e4824114f9c.png)\n",
    "\n"
   ]
  },
  {
   "cell_type": "code",
   "execution_count": 154,
   "id": "c4c75473-e3c2-4264-af0f-855a9bc7f082",
   "metadata": {},
   "outputs": [
    {
     "name": "stdout",
     "output_type": "stream",
     "text": [
      "[1, 2, 3, 4, 5]\n",
      "3\n",
      "17\n"
     ]
    }
   ],
   "source": [
    "#Eksempler på bruk av lister\n",
    "\n",
    "min_liste = [1, 2, 3, 4, 5]\n",
    "\n",
    "print(min_liste)\n",
    "\n",
    "print(min_liste[2])\n",
    "\n",
    "min_liste2 = [23, -4.5, \"god dag\", 3, 17]\n",
    "\n",
    "print(min_liste2[4])\n",
    "\n",
    "\n",
    "\n",
    "\n"
   ]
  },
  {
   "attachments": {
    "562a0d94-6f00-42cb-9871-9008ded5a12f.png": {
     "image/png": "[encoded data removed]"
    }
   },
   "cell_type": "markdown",
   "id": "d4ac2281-a618-4495-b1c4-e25a1a581ce0",
   "metadata": {},
   "source": [
    "### Datatyper - Arrays\n",
    "\n",
    "Array ligner på lister, men array modulen (Numpy) gir en mer effektiv måte å lagre data og manipulere data på enn lister, spesielt når du arbeider med store mengder numeriske data.\n",
    "\n",
    "- import numpy as np\r",
    "- arr = np.array([1, 2, 3, 4, 5])\n",
    "\n",
    "![image.png](attachment:562a0d94-6f00-42cb-9871-9008ded5a12f.png)\n"
   ]
  },
  {
   "cell_type": "code",
   "execution_count": 1,
   "id": "529f9a40-0e02-4901-8527-3c123b556144",
   "metadata": {},
   "outputs": [
    {
     "name": "stdout",
     "output_type": "stream",
     "text": [
      "[14 12 19 21 19]\n",
      "14\n"
     ]
    }
   ],
   "source": [
    "#Eksempler på bruk av arrays \n",
    "\n",
    "import numpy as np\n",
    "arr = np.array([14, 12, 19, 21, 19])\n",
    "\n",
    "print(arr)\n",
    "\n",
    "print(arr[0])\n",
    "\n"
   ]
  },
  {
   "attachments": {
    "e576af99-8ee6-4956-bb33-be790318c318.png": {
     "image/png": "[encoded data removed]"
    }
   },
   "cell_type": "markdown",
   "id": "28398c48-9154-4a84-a018-4b07972bcd2d",
   "metadata": {},
   "source": [
    "### Datatyper - Dictionary\n",
    "\n",
    "I Python er en dictionary (eller ordbok) en innebygd datastruktur som brukes til å lagre data i form av nøkkel-verdi-par. Dette gjør det enkelt å organisere og hente informasjon.\n",
    "\n",
    "student = {\n",
    "    \"studentnr\": 23456,\n",
    "    \"studie\": \"ingeniør\",\n",
    "    \"opptaksår\": 2024,\n",
    "    \"Campus\": \"Porsgrunn\"\n",
    "    }\n",
    "\n",
    "![image.png](attachment:e576af99-8ee6-4956-bb33-be790318c318.png)\n"
   ]
  },
  {
   "cell_type": "code",
   "execution_count": 3,
   "id": "de6e405e-2db3-4180-91c3-ede081e60822",
   "metadata": {},
   "outputs": [
    {
     "name": "stdout",
     "output_type": "stream",
     "text": [
      "+49 123456 Porsgrunn\n"
     ]
    }
   ],
   "source": [
    "#Eksempler på bruk av dictionary\n",
    "student = { \n",
    "           \"studentnr\": 23456, \n",
    "           \"studie\": \"ingeniør\", \n",
    "           \"opptaksår\": 2024, \n",
    "           \"Campus\": \"Porsgrunn\",\n",
    "            }\n",
    "\n",
    "student[\"tlf\"] = \"+49 123456\"\n",
    "\n",
    "print(student[\"tlf\"], student[\"Campus\"])\n"
   ]
  },
  {
   "attachments": {
    "d29e5c01-7515-499e-a594-58b7a3b3139d.png": {
     "image/png": "[encoded data removed]"
    }
   },
   "cell_type": "markdown",
   "id": "d582f68c-24bc-4877-9fa3-621646633e1e",
   "metadata": {},
   "source": [
    "### Datatyper - Boolske  (Ture or False)\n",
    "\n",
    "I Python er boolske datatyper en innebygd datatype som representerer sannhetsverdier. Det finnes kun to boolske verdier: True og False. Disse brukes ofte i betingelser og logiske uttrykk for å kontrollere flyten i programmet.\n",
    "\n",
    "Sammenligningsoperatorer:\n",
    "\n",
    "![image.png](attachment:d29e5c01-7515-499e-a594-58b7a3b3139d.png)\n"
   ]
  },
  {
   "cell_type": "code",
   "execution_count": 5,
   "id": "0bb5756c-5a6f-40ac-9232-96765d2ae633",
   "metadata": {},
   "outputs": [
    {
     "name": "stdout",
     "output_type": "stream",
     "text": [
      "True\n",
      "False\n",
      "True\n",
      "False\n"
     ]
    }
   ],
   "source": [
    "#Eksempler på bruk av True og False\n",
    "a = 2\n",
    "b = 3\n",
    "\n",
    "print(b > a)\n",
    "print(b == a)\n",
    "print(b != a)\n",
    "print(b < a)\n",
    "\n"
   ]
  },
  {
   "cell_type": "code",
   "execution_count": null,
   "id": "39c8462b-85f9-42a1-a31c-eca9dfed9750",
   "metadata": {},
   "outputs": [],
   "source": []
  }
 ],
 "metadata": {
  "kernelspec": {
   "display_name": "Python 3 (ipykernel)",
   "language": "python",
   "name": "python3"
  },
  "language_info": {
   "codemirror_mode": {
    "name": "ipython",
    "version": 3
   },
   "file_extension": ".py",
   "mimetype": "text/x-python",
   "name": "python",
   "nbconvert_exporter": "python",
   "pygments_lexer": "ipython3",
   "version": "3.12.4"
  }
 },
 "nbformat": 4,
 "nbformat_minor": 5
}
