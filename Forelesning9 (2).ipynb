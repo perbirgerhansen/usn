{
 "cells": [
  {
   "attachments": {},
   "cell_type": "markdown",
   "id": "14a91399-7ec9-49b3-850d-b969a6c80329",
   "metadata": {},
   "source": [
    "# Forelesning 9: Lese og skrive fildata \n",
    "\n",
    "### Økt 1 \n",
    "- loadtxt (Numpy)\n",
    "- savetxt (Numpy)\n",
    "- open (for komplekse filformater, hvor loadtxt ikke fungerer)\n",
    "\n",
    "\n",
    "### Økt 2\r",
    "- Lese Excel-data (Pandas)\n",
    "- Skrive Excel-data (Pandas)\n",
    "\n"
   ]
  },
  {
   "cell_type": "markdown",
   "id": "f1191350-d60c-4a39-b649-667d45ca4412",
   "metadata": {},
   "source": [
    "### Loadtxt\n",
    "brukes til å lese data fra en tekstfil og lagre det som en NumPy-array. Du kan spesifisere datatype, delimiter, og andre parametere for å tilpasse hvordan dataene leses inn."
   ]
  },
  {
   "cell_type": "code",
   "execution_count": 83,
   "id": "d867bb4a-7d79-4c6d-b00d-f065125d6ce2",
   "metadata": {},
   "outputs": [],
   "source": [
    "# eks på bruk av loadtxt\n",
    "\n"
   ]
  },
  {
   "cell_type": "markdown",
   "id": "536ed3df-d5bc-4bf0-aef2-9de786a0594f",
   "metadata": {},
   "source": [
    "### Savetxt\n",
    "brukes til å lagre en NumPy-array til en tekstfil. Du kan spesifisere delimiter, format, og legge til en header hvis ønskelig."
   ]
  },
  {
   "cell_type": "code",
   "execution_count": 85,
   "id": "8d590c17-723f-4cb9-9883-3b562bef831e",
   "metadata": {},
   "outputs": [],
   "source": [
    "# eks på bruk av savedtxt\n",
    "\n"
   ]
  },
  {
   "cell_type": "markdown",
   "id": "0a3440a8-37b8-4031-9463-97fae9740ca1",
   "metadata": {},
   "source": [
    "### Open\n",
    "I Python brukes open-funksjonen til å åpne filer slik at du kan lese fra eller skrive til dem.  Funksjonen returnerer et filobjekt som du kan bruke til å utføre ulike operasjoner på filen.\n",
    "\n",
    "file_object = open(\"filnavn\", \"modus\")\n",
    "\n",
    "modus:\n",
    "\n",
    "- \"r\": Lesemodus (standard). Åpner en fil for lesing.\n",
    "- \"w\": Skrive-modus. Åpner en fil for skriving, og oppretter filen hvis den ikke eksisterer (sletter innholdet hvis den eksisterer)."
   ]
  },
  {
   "cell_type": "code",
   "execution_count": 87,
   "id": "b9d0a612-4b0b-4de7-942c-81797adc9a60",
   "metadata": {},
   "outputs": [],
   "source": [
    "# eks på bruk av open\n",
    "\n"
   ]
  },
  {
   "cell_type": "markdown",
   "id": "004ba2c6-f112-4e5a-9825-8c0c1a04a855",
   "metadata": {},
   "source": [
    "###  Lese Excel-data (Pandas)\n",
    "\n",
    "import pandas as pd\n",
    "\n",
    "df = pd.read_excel('data.xlsx', sheet_name='Sheet1')\n",
    "\n",
    "- sheet_name: navnet på arket du vil lese (standard er det første arket).\n",
    "  \n",
    "- usercols: speifiser hvilke kolonner du vil lese (f.eks. usecols='A:C' for å lese kolonnene A til C)\n",
    "\n",
    "- skiprows: Antall rader å hoppe over fra toppen av arket (f.eks. skiprows=1 for å hoppe over den første raden).\n"
   ]
  },
  {
   "cell_type": "code",
   "execution_count": 89,
   "id": "7be80d8e-360b-42c7-a04e-e8c0e5046d92",
   "metadata": {},
   "outputs": [],
   "source": [
    "#eks: lese Excel-filer\n",
    "\n"
   ]
  },
  {
   "cell_type": "markdown",
   "id": "f95537c2-a8ef-4540-a506-82b47d89dbea",
   "metadata": {},
   "source": [
    "### Skrive Excel-data (Pandas)\n",
    "\n",
    "import pandas as pd\n",
    "\n",
    "data = {\"navn\": [\"Anna\", \"Bjørn\", \"Cecilie\"],\n",
    "        \"alder\": [23, 35, 29]}\n",
    "\n",
    "df.to_excel(\"output.xlsx\")\n",
    "\n"
   ]
  },
  {
   "cell_type": "code",
   "execution_count": 91,
   "id": "293a4c95-0916-410c-b1d5-9ba8fbc3a17b",
   "metadata": {},
   "outputs": [],
   "source": [
    "#eks: skrive Excel-data  \n",
    "\n"
   ]
  },
  {
   "cell_type": "code",
   "execution_count": null,
   "id": "ace12a8b-95a1-4eee-b6ff-d5b8b4a2927c",
   "metadata": {},
   "outputs": [],
   "source": [
    " \n",
    "\n",
    "\n"
   ]
  }
 ],
 "metadata": {
  "kernelspec": {
   "display_name": "Python 3 (ipykernel)",
   "language": "python",
   "name": "python3"
  },
  "language_info": {
   "codemirror_mode": {
    "name": "ipython",
    "version": 3
   },
   "file_extension": ".py",
   "mimetype": "text/x-python",
   "name": "python",
   "nbconvert_exporter": "python",
   "pygments_lexer": "ipython3",
   "version": "3.12.4"
  }
 },
 "nbformat": 4,
 "nbformat_minor": 5
}
